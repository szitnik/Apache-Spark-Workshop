{
 "cells": [
  {
   "cell_type": "code",
   "execution_count": 39,
   "metadata": {
    "collapsed": true
   },
   "outputs": [],
   "source": [
    "import json\n",
    "from pyspark import SparkContext, SparkConf, SQLContext\n",
    "from pyspark.sql import SparkSession\n",
    "from IPython.display import display, HTML\n",
    "\n",
    "conf = SparkConf().setAppName(\"HomeSensors\")\n",
    "\n",
    "sc = SparkContext.getOrCreate(conf=conf)\n",
    "\n",
    "sqlContext = SQLContext(sc)\n",
    "ss = SparkSession.builder.getOrCreate()\n",
    "ss.conf.set(\"spark.sql.repl.eagerEval.enabled\", True)"
   ]
  },
  {
   "cell_type": "code",
   "execution_count": 40,
   "outputs": [
    {
     "name": "stdout",
     "output_type": "stream",
     "text": [
      "250\n"
     ]
    },
    {
     "data": {
      "text/plain": "./data/sensor_data.txt MapPartitionsRDD[289] at textFile at NativeMethodAccessorImpl.java:0"
     },
     "execution_count": 40,
     "metadata": {},
     "output_type": "execute_result"
    }
   ],
   "source": [
    "data = sc.textFile(\"./data/sensor_data.txt\")\n",
    "print(data.count())\n",
    "data.cache()"
   ],
   "metadata": {
    "collapsed": false,
    "pycharm": {
     "name": "#%%\n"
    }
   }
  },
  {
   "cell_type": "code",
   "execution_count": 41,
   "outputs": [
    {
     "name": "stdout",
     "output_type": "stream",
     "text": [
      "250\n"
     ]
    }
   ],
   "source": [
    "json_data = data.map(lambda x: json.loads(x))\n",
    "json_data.cache()\n",
    "\n",
    "print(json.dumps(json_data.count()))\n",
    "# print(json.dumps(json_data.collect()))"
   ],
   "metadata": {
    "collapsed": false,
    "pycharm": {
     "name": "#%%\n"
    }
   }
  },
  {
   "cell_type": "code",
   "execution_count": 42,
   "outputs": [
    {
     "name": "stdout",
     "output_type": "stream",
     "text": [
      "683\n"
     ]
    }
   ],
   "source": [
    "sensor_data = json_data.flatMap(lambda x: x[\"data\"])\n",
    "sensor_data.cache()\n",
    "\n",
    "print(json.dumps(sensor_data.count()))\n",
    "# print(json.dumps(sensor_data.collect()))"
   ],
   "metadata": {
    "collapsed": false,
    "pycharm": {
     "name": "#%%\n"
    }
   }
  },
  {
   "cell_type": "code",
   "execution_count": 43,
   "outputs": [
    {
     "data": {
      "text/plain": "+---------+-------------------+----------+-----------+-------+-------------------+\n|device_id|        measurement| timestamp|       type|   unit|        timestamp_d|\n+---------+-------------------+----------+-----------+-------+-------------------+\n|    temp1|               20.0|1.598922E9|temperature|celsius|2020-09-01 03:00:00|\n|    temp1|  19.30954994093412|1.598922E9|temperature|celsius|2020-09-01 03:00:00|\n|    temp1|  19.30954994093412|1.598922E9|temperature|celsius|2020-09-01 03:00:00|\n|    temp1| 19.383623550288977|1.598922E9|temperature|celsius|2020-09-01 03:00:00|\n|    temp2|               25.0|1.598922E9|temperature|celsius|2020-09-01 03:00:00|\n|    temp2|               25.0|1.598922E9|temperature|celsius|2020-09-01 03:00:00|\n|    temp2| 24.799840734328733|1.598922E9|temperature|celsius|2020-09-01 03:00:00|\n|    temp2| 24.799840734328733|1.598922E9|temperature|celsius|2020-09-01 03:00:00|\n|    temp3| 25.626331819300546|1.598922E9|temperature|celsius|2020-09-01 03:00:00|\n|    temp3| 25.250067810084378|1.598922E9|temperature|celsius|2020-09-01 03:00:00|\n|    temp3| 24.250972154476745|1.598922E9|temperature|celsius|2020-09-01 03:00:00|\n|    temp3| 23.357275750760387|1.598922E9|temperature|celsius|2020-09-01 03:00:00|\n| weather1| 20.517233767093398|1.598922E9|   humidity|      %|2020-09-01 03:00:00|\n| weather1| 120.65538138536849|1.598922E9|   pressure|   mbar|2020-09-01 03:00:00|\n| weather1|-0.4519155716286791|1.598922E9|      light|    lux|2020-09-01 03:00:00|\n| weather2|  19.77517376328757|1.598922E9|   humidity|      %|2020-09-01 03:00:00|\n| weather2|              120.0|1.598922E9|   pressure|   mbar|2020-09-01 03:00:00|\n| weather2|              100.0|1.598922E9|      light|    lux|2020-09-01 03:00:00|\n| weather3|              100.0|1.598922E9|   humidity|      %|2020-09-01 03:00:00|\n| weather3|              230.0|1.598922E9|   pressure|   mbar|2020-09-01 03:00:00|\n+---------+-------------------+----------+-----------+-------+-------------------+\nonly showing top 20 rows",
      "text/html": "<table border='1'>\n<tr><th>device_id</th><th>measurement</th><th>timestamp</th><th>type</th><th>unit</th><th>timestamp_d</th></tr>\n<tr><td>temp1</td><td>20.0</td><td>1.598922E9</td><td>temperature</td><td>celsius</td><td>2020-09-01 03:00:00</td></tr>\n<tr><td>temp1</td><td>19.30954994093412</td><td>1.598922E9</td><td>temperature</td><td>celsius</td><td>2020-09-01 03:00:00</td></tr>\n<tr><td>temp1</td><td>19.30954994093412</td><td>1.598922E9</td><td>temperature</td><td>celsius</td><td>2020-09-01 03:00:00</td></tr>\n<tr><td>temp1</td><td>19.383623550288977</td><td>1.598922E9</td><td>temperature</td><td>celsius</td><td>2020-09-01 03:00:00</td></tr>\n<tr><td>temp2</td><td>25.0</td><td>1.598922E9</td><td>temperature</td><td>celsius</td><td>2020-09-01 03:00:00</td></tr>\n<tr><td>temp2</td><td>25.0</td><td>1.598922E9</td><td>temperature</td><td>celsius</td><td>2020-09-01 03:00:00</td></tr>\n<tr><td>temp2</td><td>24.799840734328733</td><td>1.598922E9</td><td>temperature</td><td>celsius</td><td>2020-09-01 03:00:00</td></tr>\n<tr><td>temp2</td><td>24.799840734328733</td><td>1.598922E9</td><td>temperature</td><td>celsius</td><td>2020-09-01 03:00:00</td></tr>\n<tr><td>temp3</td><td>25.626331819300546</td><td>1.598922E9</td><td>temperature</td><td>celsius</td><td>2020-09-01 03:00:00</td></tr>\n<tr><td>temp3</td><td>25.250067810084378</td><td>1.598922E9</td><td>temperature</td><td>celsius</td><td>2020-09-01 03:00:00</td></tr>\n<tr><td>temp3</td><td>24.250972154476745</td><td>1.598922E9</td><td>temperature</td><td>celsius</td><td>2020-09-01 03:00:00</td></tr>\n<tr><td>temp3</td><td>23.357275750760387</td><td>1.598922E9</td><td>temperature</td><td>celsius</td><td>2020-09-01 03:00:00</td></tr>\n<tr><td>weather1</td><td>20.517233767093398</td><td>1.598922E9</td><td>humidity</td><td>%</td><td>2020-09-01 03:00:00</td></tr>\n<tr><td>weather1</td><td>120.65538138536849</td><td>1.598922E9</td><td>pressure</td><td>mbar</td><td>2020-09-01 03:00:00</td></tr>\n<tr><td>weather1</td><td>-0.4519155716286791</td><td>1.598922E9</td><td>light</td><td>lux</td><td>2020-09-01 03:00:00</td></tr>\n<tr><td>weather2</td><td>19.77517376328757</td><td>1.598922E9</td><td>humidity</td><td>%</td><td>2020-09-01 03:00:00</td></tr>\n<tr><td>weather2</td><td>120.0</td><td>1.598922E9</td><td>pressure</td><td>mbar</td><td>2020-09-01 03:00:00</td></tr>\n<tr><td>weather2</td><td>100.0</td><td>1.598922E9</td><td>light</td><td>lux</td><td>2020-09-01 03:00:00</td></tr>\n<tr><td>weather3</td><td>100.0</td><td>1.598922E9</td><td>humidity</td><td>%</td><td>2020-09-01 03:00:00</td></tr>\n<tr><td>weather3</td><td>230.0</td><td>1.598922E9</td><td>pressure</td><td>mbar</td><td>2020-09-01 03:00:00</td></tr>\n</table>\nonly showing top 20 rows\n"
     },
     "metadata": {},
     "output_type": "display_data"
    }
   ],
   "source": [
    "from pyspark.sql import SparkSession\n",
    "from pyspark.sql.types import Row, TimestampType\n",
    "from pyspark.sql.functions import from_unixtime\n",
    "\n",
    "sensor_data_df = sensor_data.map(lambda l: Row(**dict(l))).toDF()\n",
    "sensor_data_df = sensor_data_df.withColumn('timestamp_d', from_unixtime('timestamp').cast(TimestampType()))\n",
    "\n",
    "display(sensor_data_df)\n",
    "\n",
    "sqlContext.registerDataFrameAsTable(sensor_data_df, \"sensorData\")"
   ],
   "metadata": {
    "collapsed": false,
    "pycharm": {
     "name": "#%%\n"
    }
   }
  },
  {
   "cell_type": "code",
   "execution_count": 44,
   "outputs": [
    {
     "data": {
      "text/plain": "+--------+--------------+\n|      id|      location|\n+--------+--------------+\n|   temp1|   living_room|\n|   temp2|master_bedroom|\n|   temp3|       hallway|\n|weather1|   living_room|\n|weather2|      bathroom|\n|weather3|master_bedroom|\n|contact1|       balcony|\n|contact2|       hallway|\n|    air1|master_bedroom|\n|    air2|   living_room|\n|   temp1|   living_room|\n|   temp2|master_bedroom|\n|   temp3|       hallway|\n|weather1|   living_room|\n|weather2|      bathroom|\n|weather3|master_bedroom|\n|contact1|       balcony|\n|contact2|       hallway|\n|    air1|master_bedroom|\n|    air2|   living_room|\n+--------+--------------+\nonly showing top 20 rows",
      "text/html": "<table border='1'>\n<tr><th>id</th><th>location</th></tr>\n<tr><td>temp1</td><td>living_room</td></tr>\n<tr><td>temp2</td><td>master_bedroom</td></tr>\n<tr><td>temp3</td><td>hallway</td></tr>\n<tr><td>weather1</td><td>living_room</td></tr>\n<tr><td>weather2</td><td>bathroom</td></tr>\n<tr><td>weather3</td><td>master_bedroom</td></tr>\n<tr><td>contact1</td><td>balcony</td></tr>\n<tr><td>contact2</td><td>hallway</td></tr>\n<tr><td>air1</td><td>master_bedroom</td></tr>\n<tr><td>air2</td><td>living_room</td></tr>\n<tr><td>temp1</td><td>living_room</td></tr>\n<tr><td>temp2</td><td>master_bedroom</td></tr>\n<tr><td>temp3</td><td>hallway</td></tr>\n<tr><td>weather1</td><td>living_room</td></tr>\n<tr><td>weather2</td><td>bathroom</td></tr>\n<tr><td>weather3</td><td>master_bedroom</td></tr>\n<tr><td>contact1</td><td>balcony</td></tr>\n<tr><td>contact2</td><td>hallway</td></tr>\n<tr><td>air1</td><td>master_bedroom</td></tr>\n<tr><td>air2</td><td>living_room</td></tr>\n</table>\nonly showing top 20 rows\n"
     },
     "metadata": {},
     "output_type": "display_data"
    }
   ],
   "source": [
    "def remove_property(data):\n",
    "    del data[\"data\"]\n",
    "    return data\n",
    "\n",
    "device_data_df = json_data.map(remove_property).map(lambda l: Row(**dict(l))).toDF()\n",
    "display(device_data_df)\n",
    "\n",
    "sqlContext.registerDataFrameAsTable(device_data_df, \"deviceData\")"
   ],
   "metadata": {
    "collapsed": false,
    "pycharm": {
     "name": "#%%\n"
    }
   }
  },
  {
   "cell_type": "code",
   "execution_count": 45,
   "outputs": [
    {
     "data": {
      "text/plain": "         id        location\n0     temp1     living_room\n1     temp2  master_bedroom\n2     temp3         hallway\n3  weather1     living_room\n4  weather2        bathroom",
      "text/html": "<div>\n<style scoped>\n    .dataframe tbody tr th:only-of-type {\n        vertical-align: middle;\n    }\n\n    .dataframe tbody tr th {\n        vertical-align: top;\n    }\n\n    .dataframe thead th {\n        text-align: right;\n    }\n</style>\n<table border=\"1\" class=\"dataframe\">\n  <thead>\n    <tr style=\"text-align: right;\">\n      <th></th>\n      <th>id</th>\n      <th>location</th>\n    </tr>\n  </thead>\n  <tbody>\n    <tr>\n      <th>0</th>\n      <td>temp1</td>\n      <td>living_room</td>\n    </tr>\n    <tr>\n      <th>1</th>\n      <td>temp2</td>\n      <td>master_bedroom</td>\n    </tr>\n    <tr>\n      <th>2</th>\n      <td>temp3</td>\n      <td>hallway</td>\n    </tr>\n    <tr>\n      <th>3</th>\n      <td>weather1</td>\n      <td>living_room</td>\n    </tr>\n    <tr>\n      <th>4</th>\n      <td>weather2</td>\n      <td>bathroom</td>\n    </tr>\n  </tbody>\n</table>\n</div>"
     },
     "execution_count": 45,
     "metadata": {},
     "output_type": "execute_result"
    }
   ],
   "source": [
    "result = sqlContext.sql(\"\"\"\n",
    "    SELECT *\n",
    "    FROM deviceData\n",
    "\"\"\")\n",
    "\n",
    "\n",
    "result.toPandas().head()"
   ],
   "metadata": {
    "collapsed": false,
    "pycharm": {
     "name": "#%%\n"
    }
   }
  }
 ],
 "metadata": {
  "kernelspec": {
   "display_name": "Python 3",
   "language": "python",
   "name": "python3"
  },
  "language_info": {
   "codemirror_mode": {
    "name": "ipython",
    "version": 2
   },
   "file_extension": ".py",
   "mimetype": "text/x-python",
   "name": "python",
   "nbconvert_exporter": "python",
   "pygments_lexer": "ipython2",
   "version": "2.7.6"
  }
 },
 "nbformat": 4,
 "nbformat_minor": 0
}