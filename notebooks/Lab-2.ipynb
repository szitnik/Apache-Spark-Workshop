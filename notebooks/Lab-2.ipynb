{
 "cells": [
  {
   "cell_type": "code",
   "execution_count": 77,
   "metadata": {
    "collapsed": true
   },
   "outputs": [],
   "source": [
    "import json\n",
    "from pyspark import SparkContext, SparkConf, SQLContext\n",
    "from pyspark.sql import SparkSession, DataFrame\n",
    "from IPython.display import display, HTML\n",
    "\n",
    "conf = SparkConf().setAppName(\"HomeSensors\")\n",
    "\n",
    "sc = SparkContext.getOrCreate(conf=conf)\n",
    "\n",
    "sqlContext = SQLContext(sc)\n",
    "ss = SparkSession.builder.getOrCreate()\n",
    "ss.conf.set(\"spark.sql.repl.eagerEval.enabled\", True)"
   ]
  },
  {
   "cell_type": "code",
   "execution_count": 78,
   "metadata": {
    "pycharm": {
     "name": "#%%\n"
    }
   },
   "outputs": [
    {
     "name": "stdout",
     "output_type": "stream",
     "text": [
      "250\n"
     ]
    },
    {
     "data": {
      "text/plain": "./data/sensor_data.txt MapPartitionsRDD[509] at textFile at NativeMethodAccessorImpl.java:0"
     },
     "execution_count": 78,
     "metadata": {},
     "output_type": "execute_result"
    }
   ],
   "source": [
    "data = sc.textFile(\"./data/sensor_data.txt\")\n",
    "print(data.count())\n",
    "data.cache()"
   ]
  },
  {
   "cell_type": "code",
   "execution_count": 79,
   "metadata": {
    "pycharm": {
     "name": "#%%\n"
    }
   },
   "outputs": [
    {
     "name": "stdout",
     "output_type": "stream",
     "text": [
      "250\n"
     ]
    }
   ],
   "source": [
    "json_data = data.map(lambda x: json.loads(x))\n",
    "json_data.cache()\n",
    "\n",
    "print(json.dumps(json_data.count()))\n",
    "# print(json.dumps(json_data.collect()))"
   ]
  },
  {
   "cell_type": "code",
   "execution_count": 80,
   "metadata": {
    "pycharm": {
     "name": "#%%\n"
    }
   },
   "outputs": [
    {
     "name": "stdout",
     "output_type": "stream",
     "text": [
      "717\n"
     ]
    }
   ],
   "source": [
    "sensor_data = json_data.flatMap(lambda x: x[\"data\"]) # [[1, 2, 3], [4, 5, 6], [7, 8, 9]] -> [1, 2, 3, 4, 5, 6, 7, 8, 9]\n",
    "sensor_data.cache()\n",
    "\n",
    "print(json.dumps(sensor_data.count()))\n",
    "# print(json.dumps(sensor_data.collect()))"
   ]
  },
  {
   "cell_type": "code",
   "execution_count": 81,
   "outputs": [],
   "source": [
    "def to_timestamp(df: DataFrame, field: str):\n",
    "    df = df.withColumn(field, from_unixtime(f'{field}_ms').cast(TimestampType()))\n",
    "    df = df.drop(f'{field}_ms')\n",
    "    return df"
   ],
   "metadata": {
    "collapsed": false,
    "pycharm": {
     "name": "#%%\n"
    }
   }
  },
  {
   "cell_type": "code",
   "execution_count": 82,
   "metadata": {
    "pycharm": {
     "name": "#%%\n"
    }
   },
   "outputs": [
    {
     "data": {
      "text/plain": "+---------+------------------+-----------+-------+-------------------+\n|device_id|       measurement|       type|   unit|          timestamp|\n+---------+------------------+-----------+-------+-------------------+\n|    temp1|22.671717271141567|temperature|celsius|2020-09-01 03:00:00|\n|    temp1|22.427013031545382|temperature|celsius|2020-09-01 03:15:00|\n|    temp1| 23.21266136616038|temperature|celsius|2020-09-01 03:30:00|\n|    temp1|22.280158977203943|temperature|celsius|2020-09-01 03:45:00|\n|    temp2|14.348216499635889|temperature|celsius|2020-09-01 03:00:00|\n|    temp2|14.968794892912364|temperature|celsius|2020-09-01 03:15:00|\n|    temp2|14.271602819920133|temperature|celsius|2020-09-01 03:30:00|\n|    temp2|13.578581273189716|temperature|celsius|2020-09-01 03:45:00|\n|    temp3|15.433606301351901|temperature|celsius|2020-09-01 03:00:00|\n|    temp3|15.732800281399621|temperature|celsius|2020-09-01 03:15:00|\n|    temp3|15.732800281399621|temperature|celsius|2020-09-01 03:30:00|\n|    temp3|15.732800281399621|temperature|celsius|2020-09-01 03:45:00|\n| weather1| 99.19263396239432|   humidity|      %|2020-09-01 03:00:00|\n| weather1|120.91026370800935|   pressure|   mbar|2020-09-01 03:00:00|\n| weather1| 1000.157614543129|      light|    lux|2020-09-01 03:00:00|\n| weather2|             100.0|   humidity|      %|2020-09-01 03:00:00|\n| weather2|             230.0|   pressure|   mbar|2020-09-01 03:00:00|\n| weather2|            1000.0|      light|    lux|2020-09-01 03:00:00|\n| weather3|              30.0|   humidity|      %|2020-09-01 03:00:00|\n| weather3| 100.9230276149223|   pressure|   mbar|2020-09-01 03:00:00|\n+---------+------------------+-----------+-------+-------------------+\nonly showing top 20 rows",
      "text/html": "<table border='1'>\n<tr><th>device_id</th><th>measurement</th><th>type</th><th>unit</th><th>timestamp</th></tr>\n<tr><td>temp1</td><td>22.671717271141567</td><td>temperature</td><td>celsius</td><td>2020-09-01 03:00:00</td></tr>\n<tr><td>temp1</td><td>22.427013031545382</td><td>temperature</td><td>celsius</td><td>2020-09-01 03:15:00</td></tr>\n<tr><td>temp1</td><td>23.21266136616038</td><td>temperature</td><td>celsius</td><td>2020-09-01 03:30:00</td></tr>\n<tr><td>temp1</td><td>22.280158977203943</td><td>temperature</td><td>celsius</td><td>2020-09-01 03:45:00</td></tr>\n<tr><td>temp2</td><td>14.348216499635889</td><td>temperature</td><td>celsius</td><td>2020-09-01 03:00:00</td></tr>\n<tr><td>temp2</td><td>14.968794892912364</td><td>temperature</td><td>celsius</td><td>2020-09-01 03:15:00</td></tr>\n<tr><td>temp2</td><td>14.271602819920133</td><td>temperature</td><td>celsius</td><td>2020-09-01 03:30:00</td></tr>\n<tr><td>temp2</td><td>13.578581273189716</td><td>temperature</td><td>celsius</td><td>2020-09-01 03:45:00</td></tr>\n<tr><td>temp3</td><td>15.433606301351901</td><td>temperature</td><td>celsius</td><td>2020-09-01 03:00:00</td></tr>\n<tr><td>temp3</td><td>15.732800281399621</td><td>temperature</td><td>celsius</td><td>2020-09-01 03:15:00</td></tr>\n<tr><td>temp3</td><td>15.732800281399621</td><td>temperature</td><td>celsius</td><td>2020-09-01 03:30:00</td></tr>\n<tr><td>temp3</td><td>15.732800281399621</td><td>temperature</td><td>celsius</td><td>2020-09-01 03:45:00</td></tr>\n<tr><td>weather1</td><td>99.19263396239432</td><td>humidity</td><td>%</td><td>2020-09-01 03:00:00</td></tr>\n<tr><td>weather1</td><td>120.91026370800935</td><td>pressure</td><td>mbar</td><td>2020-09-01 03:00:00</td></tr>\n<tr><td>weather1</td><td>1000.157614543129</td><td>light</td><td>lux</td><td>2020-09-01 03:00:00</td></tr>\n<tr><td>weather2</td><td>100.0</td><td>humidity</td><td>%</td><td>2020-09-01 03:00:00</td></tr>\n<tr><td>weather2</td><td>230.0</td><td>pressure</td><td>mbar</td><td>2020-09-01 03:00:00</td></tr>\n<tr><td>weather2</td><td>1000.0</td><td>light</td><td>lux</td><td>2020-09-01 03:00:00</td></tr>\n<tr><td>weather3</td><td>30.0</td><td>humidity</td><td>%</td><td>2020-09-01 03:00:00</td></tr>\n<tr><td>weather3</td><td>100.9230276149223</td><td>pressure</td><td>mbar</td><td>2020-09-01 03:00:00</td></tr>\n</table>\nonly showing top 20 rows\n"
     },
     "metadata": {},
     "output_type": "display_data"
    }
   ],
   "source": [
    "# creating a DF\n",
    "\n",
    "from pyspark.sql.types import Row, TimestampType\n",
    "from pyspark.sql.functions import from_unixtime\n",
    "\n",
    "sensor_data_df = sensor_data.map(lambda l: Row(**dict(l))).toDF()\n",
    "sensor_data_df = to_timestamp(sensor_data_df, \"timestamp\")\n",
    "display(sensor_data_df)\n",
    "\n",
    "sqlContext.registerDataFrameAsTable(sensor_data_df, \"sensorData\")"
   ]
  },
  {
   "cell_type": "code",
   "execution_count": 83,
   "metadata": {
    "pycharm": {
     "name": "#%%\n"
    },
    "scrolled": false
   },
   "outputs": [
    {
     "data": {
      "text/plain": "+--------+-------------------+\n|      id|          timestamp|\n+--------+-------------------+\n|   temp1|2020-09-01 03:00:00|\n|   temp2|2020-09-01 03:00:00|\n|   temp3|2020-09-01 03:00:00|\n|weather1|2020-09-01 03:00:00|\n|weather2|2020-09-01 03:00:00|\n|weather3|2020-09-01 03:00:00|\n|contact1|2020-09-01 03:00:00|\n|contact2|2020-09-01 03:00:00|\n|    air1|2020-09-01 03:00:00|\n|    air2|2020-09-01 03:00:00|\n|   temp1|2020-09-01 04:00:00|\n|   temp2|2020-09-01 04:00:00|\n|   temp3|2020-09-01 04:00:00|\n|weather1|2020-09-01 04:00:00|\n|weather2|2020-09-01 04:00:00|\n|weather3|2020-09-01 04:00:00|\n|contact1|2020-09-01 04:00:00|\n|contact2|2020-09-01 04:00:00|\n|    air1|2020-09-01 04:00:00|\n|    air2|2020-09-01 04:00:00|\n+--------+-------------------+\nonly showing top 20 rows",
      "text/html": "<table border='1'>\n<tr><th>id</th><th>timestamp</th></tr>\n<tr><td>temp1</td><td>2020-09-01 03:00:00</td></tr>\n<tr><td>temp2</td><td>2020-09-01 03:00:00</td></tr>\n<tr><td>temp3</td><td>2020-09-01 03:00:00</td></tr>\n<tr><td>weather1</td><td>2020-09-01 03:00:00</td></tr>\n<tr><td>weather2</td><td>2020-09-01 03:00:00</td></tr>\n<tr><td>weather3</td><td>2020-09-01 03:00:00</td></tr>\n<tr><td>contact1</td><td>2020-09-01 03:00:00</td></tr>\n<tr><td>contact2</td><td>2020-09-01 03:00:00</td></tr>\n<tr><td>air1</td><td>2020-09-01 03:00:00</td></tr>\n<tr><td>air2</td><td>2020-09-01 03:00:00</td></tr>\n<tr><td>temp1</td><td>2020-09-01 04:00:00</td></tr>\n<tr><td>temp2</td><td>2020-09-01 04:00:00</td></tr>\n<tr><td>temp3</td><td>2020-09-01 04:00:00</td></tr>\n<tr><td>weather1</td><td>2020-09-01 04:00:00</td></tr>\n<tr><td>weather2</td><td>2020-09-01 04:00:00</td></tr>\n<tr><td>weather3</td><td>2020-09-01 04:00:00</td></tr>\n<tr><td>contact1</td><td>2020-09-01 04:00:00</td></tr>\n<tr><td>contact2</td><td>2020-09-01 04:00:00</td></tr>\n<tr><td>air1</td><td>2020-09-01 04:00:00</td></tr>\n<tr><td>air2</td><td>2020-09-01 04:00:00</td></tr>\n</table>\nonly showing top 20 rows\n"
     },
     "metadata": {},
     "output_type": "display_data"
    }
   ],
   "source": [
    "# creating a DF, the complicated way\n",
    "def remove_property(data):\n",
    "    del data[\"data\"]\n",
    "    return data\n",
    "\n",
    "device_data_df = json_data.map(remove_property).map(lambda l: Row(**dict(l))).toDF()\n",
    "device_data_df = to_timestamp(device_data_df, \"timestamp\")\n",
    "display(device_data_df)\n",
    "\n",
    "sqlContext.registerDataFrameAsTable(device_data_df, \"deviceData\")\n"
   ]
  },
  {
   "cell_type": "code",
   "execution_count": 84,
   "outputs": [
    {
     "data": {
      "text/plain": "+---------+--------------+\n|device_id|     locations|\n+---------+--------------+\n|    temp1|   living_room|\n|    temp2|master_bedroom|\n|    temp3|       hallway|\n| weather1|   living_room|\n| weather2|      bathroom|\n| weather3|master_bedroom|\n| contact1|       balcony|\n| contact2|       hallway|\n|     air1|master_bedroom|\n|     air2|   living_room|\n+---------+--------------+",
      "text/html": "<table border='1'>\n<tr><th>device_id</th><th>locations</th></tr>\n<tr><td>temp1</td><td>living_room</td></tr>\n<tr><td>temp2</td><td>master_bedroom</td></tr>\n<tr><td>temp3</td><td>hallway</td></tr>\n<tr><td>weather1</td><td>living_room</td></tr>\n<tr><td>weather2</td><td>bathroom</td></tr>\n<tr><td>weather3</td><td>master_bedroom</td></tr>\n<tr><td>contact1</td><td>balcony</td></tr>\n<tr><td>contact2</td><td>hallway</td></tr>\n<tr><td>air1</td><td>master_bedroom</td></tr>\n<tr><td>air2</td><td>living_room</td></tr>\n</table>\n"
     },
     "metadata": {},
     "output_type": "display_data"
    }
   ],
   "source": [
    "from pyspark.sql.types import StructType, StructField, IntegerType, StringType\n",
    "\n",
    "device_locations_df = ss.read.csv(\n",
    "    \"data/device_locations.csv\",\n",
    "    header=True,\n",
    "    mode=\"DROPMALFORMED\",\n",
    "    schema=StructType([\n",
    "        StructField(\"device_id\", StringType(), True),\n",
    "        StructField(\"locations\", StringType(), True)\n",
    "    ])\n",
    ")\n",
    "sqlContext.registerDataFrameAsTable(device_locations_df, \"deviceLocations\")\n",
    "display(device_locations_df)"
   ],
   "metadata": {
    "collapsed": false,
    "pycharm": {
     "name": "#%%\n"
    }
   }
  },
  {
   "cell_type": "code",
   "execution_count": 85,
   "metadata": {
    "pycharm": {
     "name": "#%%\n"
    }
   },
   "outputs": [
    {
     "data": {
      "text/plain": "+----+-------------------+\n|  id|          timestamp|\n+----+-------------------+\n|air1|2020-09-01 12:00:00|\n|air1|2020-09-01 17:00:00|\n|air1|2020-09-02 01:00:00|\n|air1|2020-09-01 22:00:00|\n|air1|2020-09-01 05:00:00|\n|air1|2020-09-01 14:00:00|\n|air1|2020-09-01 18:00:00|\n|air1|2020-09-01 10:00:00|\n|air1|2020-09-01 13:00:00|\n|air1|2020-09-01 04:00:00|\n|air1|2020-09-01 16:00:00|\n|air1|2020-09-01 08:00:00|\n|air1|2020-09-01 19:00:00|\n|air1|2020-09-01 06:00:00|\n|air1|2020-09-01 23:00:00|\n|air1|2020-09-02 00:00:00|\n|air1|2020-09-01 11:00:00|\n|air1|2020-09-01 15:00:00|\n|air1|2020-09-01 21:00:00|\n|air1|2020-09-01 03:00:00|\n+----+-------------------+\nonly showing top 20 rows",
      "text/html": "<table border='1'>\n<tr><th>id</th><th>timestamp</th></tr>\n<tr><td>air1</td><td>2020-09-02 01:00:00</td></tr>\n<tr><td>air1</td><td>2020-09-01 03:00:00</td></tr>\n<tr><td>air1</td><td>2020-09-01 12:00:00</td></tr>\n<tr><td>air1</td><td>2020-09-01 10:00:00</td></tr>\n<tr><td>air1</td><td>2020-09-01 16:00:00</td></tr>\n<tr><td>air1</td><td>2020-09-01 17:00:00</td></tr>\n<tr><td>air1</td><td>2020-09-01 18:00:00</td></tr>\n<tr><td>air1</td><td>2020-09-01 06:00:00</td></tr>\n<tr><td>air1</td><td>2020-09-01 23:00:00</td></tr>\n<tr><td>air1</td><td>2020-09-01 22:00:00</td></tr>\n<tr><td>air1</td><td>2020-09-01 04:00:00</td></tr>\n<tr><td>air1</td><td>2020-09-01 21:00:00</td></tr>\n<tr><td>air1</td><td>2020-09-01 05:00:00</td></tr>\n<tr><td>air1</td><td>2020-09-01 08:00:00</td></tr>\n<tr><td>air1</td><td>2020-09-01 14:00:00</td></tr>\n<tr><td>air1</td><td>2020-09-01 15:00:00</td></tr>\n<tr><td>air1</td><td>2020-09-02 00:00:00</td></tr>\n<tr><td>air1</td><td>2020-09-01 13:00:00</td></tr>\n<tr><td>air1</td><td>2020-09-01 19:00:00</td></tr>\n<tr><td>air1</td><td>2020-09-01 11:00:00</td></tr>\n</table>\nonly showing top 20 rows\n"
     },
     "metadata": {},
     "output_type": "display_data"
    }
   ],
   "source": [
    "# group by\n",
    "groupByExample = sqlContext.sql(\"\"\"\n",
    "    SELECT *\n",
    "    FROM deviceData\n",
    "    GROUP BY id, timestamp\n",
    "    ORDER  BY id\n",
    "\"\"\")\n",
    "\n",
    "display(groupByExample)"
   ]
  },
  {
   "cell_type": "code",
   "execution_count": 86,
   "outputs": [
    {
     "data": {
      "text/plain": "+---------+------------------+-----------+-------+-------------------+---------+--------------+\n|device_id|       measurement|       type|   unit|          timestamp|device_id|     locations|\n+---------+------------------+-----------+-------+-------------------+---------+--------------+\n|    temp1|22.671717271141567|temperature|celsius|2020-09-01 03:00:00|    temp1|   living_room|\n|    temp1|22.427013031545382|temperature|celsius|2020-09-01 03:15:00|    temp1|   living_room|\n|    temp1| 23.21266136616038|temperature|celsius|2020-09-01 03:30:00|    temp1|   living_room|\n|    temp1|22.280158977203943|temperature|celsius|2020-09-01 03:45:00|    temp1|   living_room|\n|    temp2|14.348216499635889|temperature|celsius|2020-09-01 03:00:00|    temp2|master_bedroom|\n|    temp2|14.968794892912364|temperature|celsius|2020-09-01 03:15:00|    temp2|master_bedroom|\n|    temp2|14.271602819920133|temperature|celsius|2020-09-01 03:30:00|    temp2|master_bedroom|\n|    temp2|13.578581273189716|temperature|celsius|2020-09-01 03:45:00|    temp2|master_bedroom|\n|    temp3|15.433606301351901|temperature|celsius|2020-09-01 03:00:00|    temp3|       hallway|\n|    temp3|15.732800281399621|temperature|celsius|2020-09-01 03:15:00|    temp3|       hallway|\n+---------+------------------+-----------+-------+-------------------+---------+--------------+",
      "text/html": "<table border='1'>\n<tr><th>device_id</th><th>measurement</th><th>type</th><th>unit</th><th>timestamp</th><th>device_id</th><th>locations</th></tr>\n<tr><td>temp1</td><td>22.671717271141567</td><td>temperature</td><td>celsius</td><td>2020-09-01 03:00:00</td><td>temp1</td><td>living_room</td></tr>\n<tr><td>temp1</td><td>22.427013031545382</td><td>temperature</td><td>celsius</td><td>2020-09-01 03:15:00</td><td>temp1</td><td>living_room</td></tr>\n<tr><td>temp1</td><td>23.21266136616038</td><td>temperature</td><td>celsius</td><td>2020-09-01 03:30:00</td><td>temp1</td><td>living_room</td></tr>\n<tr><td>temp1</td><td>22.280158977203943</td><td>temperature</td><td>celsius</td><td>2020-09-01 03:45:00</td><td>temp1</td><td>living_room</td></tr>\n<tr><td>temp2</td><td>14.348216499635889</td><td>temperature</td><td>celsius</td><td>2020-09-01 03:00:00</td><td>temp2</td><td>master_bedroom</td></tr>\n<tr><td>temp2</td><td>14.968794892912364</td><td>temperature</td><td>celsius</td><td>2020-09-01 03:15:00</td><td>temp2</td><td>master_bedroom</td></tr>\n<tr><td>temp2</td><td>14.271602819920133</td><td>temperature</td><td>celsius</td><td>2020-09-01 03:30:00</td><td>temp2</td><td>master_bedroom</td></tr>\n<tr><td>temp2</td><td>13.578581273189716</td><td>temperature</td><td>celsius</td><td>2020-09-01 03:45:00</td><td>temp2</td><td>master_bedroom</td></tr>\n<tr><td>temp3</td><td>15.433606301351901</td><td>temperature</td><td>celsius</td><td>2020-09-01 03:00:00</td><td>temp3</td><td>hallway</td></tr>\n<tr><td>temp3</td><td>15.732800281399621</td><td>temperature</td><td>celsius</td><td>2020-09-01 03:15:00</td><td>temp3</td><td>hallway</td></tr>\n</table>\n"
     },
     "metadata": {},
     "output_type": "display_data"
    }
   ],
   "source": [
    "# dataframe joins\n",
    "joinDFs = sqlContext.sql(\"\"\"\n",
    "    SELECT *\n",
    "    FROM sensorData\n",
    "    INNER JOIN deviceLocations ON sensorData.device_id = deviceLocations.device_id\n",
    "    LIMIT 10\n",
    "\"\"\")\n",
    "\n",
    "display(joinDFs)"
   ],
   "metadata": {
    "collapsed": false,
    "pycharm": {
     "name": "#%%\n"
    }
   }
  },
  {
   "cell_type": "code",
   "execution_count": 88,
   "outputs": [
    {
     "data": {
      "text/plain": "+---------+-----------+-------------------+------------------+\n|device_id|       type|          timestamp|       measurement|\n+---------+-----------+-------------------+------------------+\n|    temp1|temperature|2020-09-01 03:00:00|22.671717271141567|\n|    temp1|temperature|2020-09-01 03:15:00|22.427013031545382|\n|    temp1|temperature|2020-09-01 03:30:00| 23.21266136616038|\n|    temp1|temperature|2020-09-01 03:45:00|22.280158977203943|\n|    temp1|temperature|2020-09-01 04:00:00|22.280158977203943|\n|    temp1|temperature|2020-09-01 04:15:00|   22.755368861939|\n|    temp1|temperature|2020-09-01 04:30:00|22.828357539779773|\n|    temp1|temperature|2020-09-01 04:45:00| 22.41430333062398|\n|    temp1|temperature|2020-09-01 05:00:00|22.531936785837352|\n|    temp1|temperature|2020-09-01 05:15:00| 22.32209520818083|\n|    temp1|temperature|2020-09-01 05:30:00|23.216531539391333|\n|    temp1|temperature|2020-09-01 05:45:00| 23.49368935485177|\n|    temp1|temperature|2020-09-01 06:00:00| 23.92115240405707|\n|    temp1|temperature|2020-09-01 06:15:00|  23.5284857639077|\n|    temp1|temperature|2020-09-01 06:30:00| 22.74421615163716|\n|    temp1|temperature|2020-09-01 06:45:00| 22.74421615163716|\n|    temp1|temperature|2020-09-01 07:00:00| 22.74421615163716|\n|    temp1|temperature|2020-09-01 07:15:00|22.321649745779087|\n|    temp1|temperature|2020-09-01 07:30:00|23.142640117903102|\n|    temp1|temperature|2020-09-01 07:45:00|23.142640117903102|\n+---------+-----------+-------------------+------------------+\nonly showing top 20 rows",
      "text/html": "<table border='1'>\n<tr><th>device_id</th><th>type</th><th>timestamp</th><th>measurement</th></tr>\n<tr><td>temp1</td><td>temperature</td><td>2020-09-01 03:00:00</td><td>22.671717271141567</td></tr>\n<tr><td>temp1</td><td>temperature</td><td>2020-09-01 03:15:00</td><td>22.427013031545382</td></tr>\n<tr><td>temp1</td><td>temperature</td><td>2020-09-01 03:30:00</td><td>23.21266136616038</td></tr>\n<tr><td>temp1</td><td>temperature</td><td>2020-09-01 03:45:00</td><td>22.280158977203943</td></tr>\n<tr><td>temp1</td><td>temperature</td><td>2020-09-01 04:00:00</td><td>22.280158977203943</td></tr>\n<tr><td>temp1</td><td>temperature</td><td>2020-09-01 04:15:00</td><td>22.755368861939</td></tr>\n<tr><td>temp1</td><td>temperature</td><td>2020-09-01 04:30:00</td><td>22.828357539779773</td></tr>\n<tr><td>temp1</td><td>temperature</td><td>2020-09-01 04:45:00</td><td>22.41430333062398</td></tr>\n<tr><td>temp1</td><td>temperature</td><td>2020-09-01 05:00:00</td><td>22.531936785837352</td></tr>\n<tr><td>temp1</td><td>temperature</td><td>2020-09-01 05:15:00</td><td>22.32209520818083</td></tr>\n<tr><td>temp1</td><td>temperature</td><td>2020-09-01 05:30:00</td><td>23.216531539391333</td></tr>\n<tr><td>temp1</td><td>temperature</td><td>2020-09-01 05:45:00</td><td>23.49368935485177</td></tr>\n<tr><td>temp1</td><td>temperature</td><td>2020-09-01 06:00:00</td><td>23.92115240405707</td></tr>\n<tr><td>temp1</td><td>temperature</td><td>2020-09-01 06:15:00</td><td>23.5284857639077</td></tr>\n<tr><td>temp1</td><td>temperature</td><td>2020-09-01 06:30:00</td><td>22.74421615163716</td></tr>\n<tr><td>temp1</td><td>temperature</td><td>2020-09-01 06:45:00</td><td>22.74421615163716</td></tr>\n<tr><td>temp1</td><td>temperature</td><td>2020-09-01 07:00:00</td><td>22.74421615163716</td></tr>\n<tr><td>temp1</td><td>temperature</td><td>2020-09-01 07:15:00</td><td>22.321649745779087</td></tr>\n<tr><td>temp1</td><td>temperature</td><td>2020-09-01 07:30:00</td><td>23.142640117903102</td></tr>\n<tr><td>temp1</td><td>temperature</td><td>2020-09-01 07:45:00</td><td>23.142640117903102</td></tr>\n</table>\nonly showing top 20 rows\n"
     },
     "metadata": {},
     "output_type": "display_data"
    }
   ],
   "source": [
    "temps = sqlContext.sql(\"\"\"\n",
    "    SELECT device_id, type, timestamp, measurement\n",
    "    FROM sensorData\n",
    "    WHERE type = 'temperature' AND device_id = 'temp1'\n",
    "    ORDER BY timestamp\n",
    "\"\"\")\n",
    "\n",
    "display(temps)"
   ],
   "metadata": {
    "collapsed": false,
    "pycharm": {
     "name": "#%%\n"
    }
   }
  }
 ],
 "metadata": {
  "kernelspec": {
   "display_name": "Python 3",
   "language": "python",
   "name": "python3"
  },
  "language_info": {
   "codemirror_mode": {
    "name": "ipython",
    "version": 3
   },
   "file_extension": ".py",
   "mimetype": "text/x-python",
   "name": "python",
   "nbconvert_exporter": "python",
   "pygments_lexer": "ipython3",
   "version": "3.7.9"
  }
 },
 "nbformat": 4,
 "nbformat_minor": 1
}