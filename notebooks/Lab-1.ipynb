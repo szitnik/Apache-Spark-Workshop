{
 "cells": [
  {
   "cell_type": "markdown",
   "metadata": {},
   "source": [
    "# Introduction\n",
    "\n",
    "The purpose of this notebook is to present the basics of Spark: why we use it, and what kind of operations we can perform using it.\n",
    "\n",
    "In this notebook we cover the following topics:\n",
    "- SparkContext object\n",
    "- RDDs\n",
    "- Operations on RDDs:\n",
    "    - transformations\n",
    "    - actions\n",
    "- DataFrames"
   ]
  },
  {
   "attachments": {},
   "cell_type": "markdown",
   "metadata": {},
   "source": [
    "## SparkContext object\n",
    "\n",
    "First of all, we need to create a Spark application. We do so with the help of the `SparkContext` object, which \n",
    "\n",
    "![Cluster mode overview](./data/cluster-overview.png)\n",
    "Image source: https://spark.apache.org/docs/latest/cluster-overview.html\n",
    "\n"
   ]
  },
  {
   "cell_type": "code",
   "execution_count": 2,
   "metadata": {},
   "outputs": [],
   "source": [
    "import sys\n",
    "from random import random\n",
    "from pyspark import SparkContext, SparkConf\n",
    "\n",
    "conf = SparkConf().setAppName(\"Spark Intro\")\n",
    "sc = SparkContext.getOrCreate(conf=conf) # Alternatively, use SparkContext(conf=conf)"
   ]
  },
  {
   "cell_type": "markdown",
   "metadata": {},
   "source": [
    "## Resilient Distributed Datasets - RDDs"
   ]
  },
  {
   "cell_type": "code",
   "execution_count": null,
   "metadata": {},
   "outputs": [],
   "source": []
  }
 ],
 "metadata": {
  "kernelspec": {
   "display_name": "Python 3",
   "language": "python",
   "name": "python3"
  },
  "language_info": {
   "codemirror_mode": {
    "name": "ipython",
    "version": 3
   },
   "file_extension": ".py",
   "mimetype": "text/x-python",
   "name": "python",
   "nbconvert_exporter": "python",
   "pygments_lexer": "ipython3",
   "version": "3.6.8"
  }
 },
 "nbformat": 4,
 "nbformat_minor": 4
}
