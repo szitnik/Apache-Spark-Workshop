{
 "cells": [
  {
   "cell_type": "code",
   "execution_count": 1,
   "metadata": {
    "scrolled": false
   },
   "outputs": [],
   "source": [
    "from random import random\n",
    "from pyspark import SparkContext, SparkConf\n",
    "\n",
    "conf = SparkConf().setAppName(\"Spark Pi\").setMaster(\"local[1]\")\n",
    "sc = SparkContext.getOrCreate(conf=conf)"
   ]
  },
  {
   "cell_type": "code",
   "execution_count": 2,
   "metadata": {},
   "outputs": [
    {
     "name": "stdout",
     "output_type": "stream",
     "text": [
      "Pi is approximately 3.14194224\n"
     ]
    }
   ],
   "source": [
    "NUM_SAMPLES = 100000000\n",
    "\n",
    "# generate random numbers on the [-1, 1] interval\n",
    "pick_random = lambda: random() * 2 - 1\n",
    "\n",
    "def inside(n):\n",
    "    x, y = pick_random(), pick_random()\n",
    "    return (x * x + y * y) < 1\n",
    "\n",
    "count = sc.\\\n",
    "            parallelize(range(0, NUM_SAMPLES)).\\\n",
    "            filter(inside).\\\n",
    "            count()\n",
    "\n",
    "approx_pi = count * 4.0 / NUM_SAMPLES\n",
    "\n",
    "print(f\"Pi is approximately {approx_pi}\")"
   ]
  },
  {
   "cell_type": "markdown",
   "metadata": {
    "pycharm": {
     "name": "#%% md\n"
    }
   },
   "source": [
    "## Challenge\n",
    "Implement the Leibniz formula for estimation of $\\pi$:\n",
    "\n",
    "$$\n",
    "\\frac{\\pi}{4} = \\sum_{k=0}^{\\infty}\\frac{(-1)^k}{2k + 1}\n",
    "$$"
   ]
  },
  {
   "cell_type": "code",
   "execution_count": null,
   "metadata": {
    "pycharm": {
     "name": "#%%\n"
    }
   },
   "outputs": [],
   "source": [
    "leib_pi = 4 * sc.parallelize(range(10000)).\\\n",
    "            map(lambda x: ((-1) ** x)/(2 * x + 1) ).\\\n",
    "            reduce(lambda x, y: x + y)\n",
    "\n",
    "print(f\"Approximation of pi: {leib_pi}\")"
   ]
  }
 ],
 "metadata": {
  "kernelspec": {
   "display_name": "DSSpark",
   "language": "python",
   "name": "dsspark"
  },
  "language_info": {
   "codemirror_mode": {
    "name": "ipython",
    "version": 3
   },
   "file_extension": ".py",
   "mimetype": "text/x-python",
   "name": "python",
   "nbconvert_exporter": "python",
   "pygments_lexer": "ipython3",
   "version": "3.8.3"
  }
 },
 "nbformat": 4,
 "nbformat_minor": 4
}
