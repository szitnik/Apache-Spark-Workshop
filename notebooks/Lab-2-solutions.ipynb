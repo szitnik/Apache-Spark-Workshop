{
 "cells": [
  {
   "cell_type": "markdown",
   "metadata": {
    "pycharm": {
     "name": "#%% md\n"
    }
   },
   "source": [
    "# Home sensors\n",
    "\n",
    "## Scenario\n",
    "\n",
    "We have decided to setup a couple of sensors in our home to inspect the quality of life in our home.\n",
    "There are multiple devices, equipped with different sensors.\n",
    "The devices send out data once per hour, and the sensors take measurements more frequently.\n",
    "We have collected the data in a single `.txt` file.\n",
    "\n",
    "\n",
    "## Data model\n",
    "The data is presented with the following format:\n",
    "\n",
    "```json\n",
    "{\n",
    "  \"id\": \"id of the device\",\n",
    "  \"timestamp_ms\": \"unix timestamp in milliseconds of the hour the measurements were collected\",\n",
    "  \"data\": [\n",
    "    {\n",
    "      \"comment\": \"sensor specific data, e.g. temperature. The data is an array because the device can have more than a single sensor\",\n",
    "      \"device_id\": \"id of the device\",\n",
    "      \"type\": \"sensor type: temperature, light, contact, humidity, air quality, motion\",\n",
    "      \"measurement\": \"<sensor measurement\",\n",
    "      \"unit\": \"unit of the measurement, e.g. Celsius degrees\",\n",
    "      \"timestamp_ms\": \"unix timestamp in milliseconds when the measurement was collected\"\n",
    "    }\n",
    "  ]\n",
    "}\n",
    "```\n",
    "\n",
    "It is stored in a `JSON` newline delimited format, you can inspect it [here](./data/sensor_data.txt).\n",
    "Moreover, we have an additional `.csv` file containing the location of each device, available [here](./data/device_locations.csv).\n",
    "\n",
    "## Task\n",
    "\n",
    "Organize the data, extract information from it to estimate the quality of life in our home.\n",
    "\n",
    "Extra task: draw the ground plan of the flat/house the devices are in.\n"
   ]
  },
  {
   "cell_type": "code",
   "execution_count": 1,
   "metadata": {},
   "outputs": [],
   "source": [
    "# some obligatory stuff: creating a SparkContext, importing some utils to pretty display the dataframes\n",
    "import json\n",
    "from pyspark import SparkContext, SparkConf, SQLContext\n",
    "from pyspark.sql import SparkSession, DataFrame\n",
    "from IPython.display import display\n",
    "\n",
    "conf = SparkConf().setAppName(\"HomeSensors\").setMaster(\"local[1]\")\n",
    "\n",
    "sc = SparkContext.getOrCreate(conf=conf)\n",
    "sqlContext = SQLContext(sc)\n",
    "ss = SparkSession.builder.getOrCreate()\n",
    "\n",
    "# enables pretty print with display()\n",
    "ss.conf.set(\"spark.sql.repl.eagerEval.enabled\", True)"
   ]
  },
  {
   "cell_type": "markdown",
   "metadata": {
    "pycharm": {
     "name": "#%% md\n"
    }
   },
   "source": [
    "First of all, we need to read the data. Once read, we get a list of all lines in the source file."
   ]
  },
  {
   "cell_type": "code",
   "execution_count": 2,
   "metadata": {
    "pycharm": {
     "name": "#%%\n"
    }
   },
   "outputs": [
    {
     "name": "stdout",
     "output_type": "stream",
     "text": [
      "Data count: 250\n"
     ]
    }
   ],
   "source": [
    "data = sc.textFile(\"./data/sensor_data.txt\")\n",
    "\n",
    "count = data.cache().count()\n",
    "print(f\"Data count: {count}\")"
   ]
  },
  {
   "cell_type": "code",
   "execution_count": 3,
   "metadata": {
    "pycharm": {
     "name": "#%%\n"
    }
   },
   "outputs": [
    {
     "name": "stdout",
     "output_type": "stream",
     "text": [
      "A couple of lines of data:\n",
      "{\"id\": \"temp1\", \"data\": [{\"device_id\": \"temp1\", \"unit\": \"celsius\", \"type\": \"temperature\", \"measurement\": 22.671717271141567, \"timestamp_ms\": 1598922000.0}, {\"device_id\": \"temp1\", \"unit\": \"celsius\", \"type\": \"temperature\", \"measurement\": 22.427013031545382, \"timestamp_ms\": 1598922900.0}, {\"device_id\": \"temp1\", \"unit\": \"celsius\", \"type\": \"temperature\", \"measurement\": 23.21266136616038, \"timestamp_ms\": 1598923800.0}, {\"device_id\": \"temp1\", \"unit\": \"celsius\", \"type\": \"temperature\", \"measurement\": 22.280158977203943, \"timestamp_ms\": 1598924700.0}], \"timestamp_ms\": 1598922000.0}\n",
      "{\"id\": \"temp2\", \"data\": [{\"device_id\": \"temp2\", \"unit\": \"celsius\", \"type\": \"temperature\", \"measurement\": 14.348216499635889, \"timestamp_ms\": 1598922000.0}, {\"device_id\": \"temp2\", \"unit\": \"celsius\", \"type\": \"temperature\", \"measurement\": 14.968794892912364, \"timestamp_ms\": 1598922900.0}, {\"device_id\": \"temp2\", \"unit\": \"celsius\", \"type\": \"temperature\", \"measurement\": 14.271602819920133, \"timestamp_ms\": 1598923800.0}, {\"device_id\": \"temp2\", \"unit\": \"celsius\", \"type\": \"temperature\", \"measurement\": 13.578581273189716, \"timestamp_ms\": 1598924700.0}], \"timestamp_ms\": 1598922000.0}\n",
      "{\"id\": \"temp3\", \"data\": [{\"device_id\": \"temp3\", \"unit\": \"celsius\", \"type\": \"temperature\", \"measurement\": 15.433606301351901, \"timestamp_ms\": 1598922000.0}, {\"device_id\": \"temp3\", \"unit\": \"celsius\", \"type\": \"temperature\", \"measurement\": 15.732800281399621, \"timestamp_ms\": 1598922900.0}, {\"device_id\": \"temp3\", \"unit\": \"celsius\", \"type\": \"temperature\", \"measurement\": 15.732800281399621, \"timestamp_ms\": 1598923800.0}, {\"device_id\": \"temp3\", \"unit\": \"celsius\", \"type\": \"temperature\", \"measurement\": 15.732800281399621, \"timestamp_ms\": 1598924700.0}], \"timestamp_ms\": 1598922000.0}\n"
     ]
    }
   ],
   "source": [
    "lines = data.collect()\n",
    "lines = '\\n'.join(lines[:3])\n",
    "print(f\"A couple of lines of data:\\n{lines}\")"
   ]
  },
  {
   "cell_type": "markdown",
   "metadata": {},
   "source": [
    "So far, we have only been working with string data.\n",
    "Let's try to convert it into `JSON`, since the data is already in `JSON` format:\n"
   ]
  },
  {
   "cell_type": "code",
   "execution_count": 4,
   "metadata": {
    "pycharm": {
     "name": "#%%\n"
    }
   },
   "outputs": [
    {
     "data": {
      "text/plain": [
       "250"
      ]
     },
     "execution_count": 4,
     "metadata": {},
     "output_type": "execute_result"
    }
   ],
   "source": [
    "json_data = data.map(lambda x: json.loads(x))\n",
    "json_data.cache().count()"
   ]
  },
  {
   "cell_type": "code",
   "execution_count": 5,
   "metadata": {
    "pycharm": {
     "name": "#%%\n"
    }
   },
   "outputs": [
    {
     "name": "stdout",
     "output_type": "stream",
     "text": [
      "Type of the data: <class 'dict'>\n",
      "JSON data: {'id': 'temp1', 'data': [{'device_id': 'temp1', 'unit': 'celsius', 'type': 'temperature', 'measurement': 22.671717271141567, 'timestamp_ms': 1598922000.0}, {'device_id': 'temp1', 'unit': 'celsius', 'type': 'temperature', 'measurement': 22.427013031545382, 'timestamp_ms': 1598922900.0}, {'device_id': 'temp1', 'unit': 'celsius', 'type': 'temperature', 'measurement': 23.21266136616038, 'timestamp_ms': 1598923800.0}, {'device_id': 'temp1', 'unit': 'celsius', 'type': 'temperature', 'measurement': 22.280158977203943, 'timestamp_ms': 1598924700.0}], 'timestamp_ms': 1598922000.0}\n"
     ]
    }
   ],
   "source": [
    "json_lines = json_data.take(1)\n",
    "print(f\"Type of the data: {type(json_lines[0])}\")\n",
    "print(f\"JSON data: {json_lines[0]}\")"
   ]
  },
  {
   "cell_type": "markdown",
   "metadata": {
    "pycharm": {
     "name": "#%% md\n"
    }
   },
   "source": [
    "OK, now that we have `JSON`s we can continue with our extraction.\n",
    "\n",
    "We would like to extract all measurements from each data emission,\n",
    "so that we can inspect the data more closely.\n",
    "\n",
    "NOTE: The data is already nested, so we need to \"unnest\" it."
   ]
  },
  {
   "cell_type": "code",
   "execution_count": 6,
   "metadata": {
    "pycharm": {
     "name": "#%%\n"
    }
   },
   "outputs": [
    {
     "name": "stdout",
     "output_type": "stream",
     "text": [
      "Amount of sensor measurements: 717\n"
     ]
    }
   ],
   "source": [
    "sensor_data_json = json_data.flatMap(lambda x: x[\"data\"]) # [[1, 2, 3], [4, 5, 6], [7, 8, 9]] -> [1, 2, 3, 4, 5, 6, 7, 8, 9]\n",
    "sensor_measurements = sensor_data_json.cache().count()\n",
    "\n",
    "print(f\"Amount of sensor measurements: {sensor_measurements}\")"
   ]
  },
  {
   "cell_type": "code",
   "execution_count": 7,
   "metadata": {
    "pycharm": {
     "name": "#%%\n"
    }
   },
   "outputs": [
    {
     "name": "stdout",
     "output_type": "stream",
     "text": [
      "Sample data:\n",
      "{\"device_id\": \"temp1\", \"unit\": \"celsius\", \"type\": \"temperature\", \"measurement\": 22.671717271141567, \"timestamp_ms\": 1598922000.0}\n",
      "{\"device_id\": \"temp1\", \"unit\": \"celsius\", \"type\": \"temperature\", \"measurement\": 22.427013031545382, \"timestamp_ms\": 1598922900.0}\n",
      "{\"device_id\": \"temp1\", \"unit\": \"celsius\", \"type\": \"temperature\", \"measurement\": 23.21266136616038, \"timestamp_ms\": 1598923800.0}\n"
     ]
    }
   ],
   "source": [
    "sample_data = \"\\n\".join([json.dumps(x) for x in sensor_data_json.take(3)])\n",
    "print(f\"Sample data:\\n{sample_data}\")"
   ]
  },
  {
   "cell_type": "markdown",
   "metadata": {
    "pycharm": {
     "name": "#%% md\n"
    }
   },
   "source": [
    "Now that we have the JSON data, let's transform it into a data frame\n",
    "so that we can perform some queries on it:"
   ]
  },
  {
   "cell_type": "code",
   "execution_count": 8,
   "metadata": {
    "pycharm": {
     "name": "#%%\n"
    }
   },
   "outputs": [
    {
     "data": {
      "text/html": [
       "<table border='1'>\n",
       "<tr><th>device_id</th><th>unit</th><th>type</th><th>measurement</th><th>timestamp_ms</th></tr>\n",
       "<tr><td>temp1</td><td>celsius</td><td>temperature</td><td>22.671717271141567</td><td>1.598922E9</td></tr>\n",
       "<tr><td>temp1</td><td>celsius</td><td>temperature</td><td>22.427013031545382</td><td>1.5989229E9</td></tr>\n",
       "<tr><td>temp1</td><td>celsius</td><td>temperature</td><td>23.21266136616038</td><td>1.5989238E9</td></tr>\n",
       "<tr><td>temp1</td><td>celsius</td><td>temperature</td><td>22.280158977203943</td><td>1.5989247E9</td></tr>\n",
       "<tr><td>temp2</td><td>celsius</td><td>temperature</td><td>14.348216499635889</td><td>1.598922E9</td></tr>\n",
       "<tr><td>temp2</td><td>celsius</td><td>temperature</td><td>14.968794892912364</td><td>1.5989229E9</td></tr>\n",
       "<tr><td>temp2</td><td>celsius</td><td>temperature</td><td>14.271602819920133</td><td>1.5989238E9</td></tr>\n",
       "<tr><td>temp2</td><td>celsius</td><td>temperature</td><td>13.578581273189716</td><td>1.5989247E9</td></tr>\n",
       "<tr><td>temp3</td><td>celsius</td><td>temperature</td><td>15.433606301351901</td><td>1.598922E9</td></tr>\n",
       "<tr><td>temp3</td><td>celsius</td><td>temperature</td><td>15.732800281399621</td><td>1.5989229E9</td></tr>\n",
       "<tr><td>temp3</td><td>celsius</td><td>temperature</td><td>15.732800281399621</td><td>1.5989238E9</td></tr>\n",
       "<tr><td>temp3</td><td>celsius</td><td>temperature</td><td>15.732800281399621</td><td>1.5989247E9</td></tr>\n",
       "<tr><td>weather1</td><td>%</td><td>humidity</td><td>99.19263396239432</td><td>1.598922E9</td></tr>\n",
       "<tr><td>weather1</td><td>mbar</td><td>pressure</td><td>120.91026370800935</td><td>1.598922E9</td></tr>\n",
       "<tr><td>weather1</td><td>lux</td><td>light</td><td>1000.157614543129</td><td>1.598922E9</td></tr>\n",
       "<tr><td>weather2</td><td>%</td><td>humidity</td><td>100.0</td><td>1.598922E9</td></tr>\n",
       "<tr><td>weather2</td><td>mbar</td><td>pressure</td><td>230.0</td><td>1.598922E9</td></tr>\n",
       "<tr><td>weather2</td><td>lux</td><td>light</td><td>1000.0</td><td>1.598922E9</td></tr>\n",
       "<tr><td>weather3</td><td>%</td><td>humidity</td><td>30.0</td><td>1.598922E9</td></tr>\n",
       "<tr><td>weather3</td><td>mbar</td><td>pressure</td><td>100.9230276149223</td><td>1.598922E9</td></tr>\n",
       "</table>\n",
       "only showing top 20 rows\n"
      ],
      "text/plain": [
       "+---------+-------+-----------+------------------+------------+\n",
       "|device_id|   unit|       type|       measurement|timestamp_ms|\n",
       "+---------+-------+-----------+------------------+------------+\n",
       "|    temp1|celsius|temperature|22.671717271141567|  1.598922E9|\n",
       "|    temp1|celsius|temperature|22.427013031545382| 1.5989229E9|\n",
       "|    temp1|celsius|temperature| 23.21266136616038| 1.5989238E9|\n",
       "|    temp1|celsius|temperature|22.280158977203943| 1.5989247E9|\n",
       "|    temp2|celsius|temperature|14.348216499635889|  1.598922E9|\n",
       "|    temp2|celsius|temperature|14.968794892912364| 1.5989229E9|\n",
       "|    temp2|celsius|temperature|14.271602819920133| 1.5989238E9|\n",
       "|    temp2|celsius|temperature|13.578581273189716| 1.5989247E9|\n",
       "|    temp3|celsius|temperature|15.433606301351901|  1.598922E9|\n",
       "|    temp3|celsius|temperature|15.732800281399621| 1.5989229E9|\n",
       "|    temp3|celsius|temperature|15.732800281399621| 1.5989238E9|\n",
       "|    temp3|celsius|temperature|15.732800281399621| 1.5989247E9|\n",
       "| weather1|      %|   humidity| 99.19263396239432|  1.598922E9|\n",
       "| weather1|   mbar|   pressure|120.91026370800935|  1.598922E9|\n",
       "| weather1|    lux|      light| 1000.157614543129|  1.598922E9|\n",
       "| weather2|      %|   humidity|             100.0|  1.598922E9|\n",
       "| weather2|   mbar|   pressure|             230.0|  1.598922E9|\n",
       "| weather2|    lux|      light|            1000.0|  1.598922E9|\n",
       "| weather3|      %|   humidity|              30.0|  1.598922E9|\n",
       "| weather3|   mbar|   pressure| 100.9230276149223|  1.598922E9|\n",
       "+---------+-------+-----------+------------------+------------+\n",
       "only showing top 20 rows"
      ]
     },
     "metadata": {},
     "output_type": "display_data"
    }
   ],
   "source": [
    "# additional required dependencies\n",
    "from pyspark.sql.types import Row, TimestampType\n",
    "\n",
    "# Row(**dict(l)) => automagically creates a row\n",
    "sensor_data_df = sensor_data_json.map(lambda l: Row(**dict(l))).toDF()\n",
    "\n",
    "display(sensor_data_df)"
   ]
  },
  {
   "cell_type": "markdown",
   "metadata": {
    "pycharm": {
     "name": "#%% md\n"
    }
   },
   "source": [
    "Notice that the `timestamp_ms` is a float value of the timestamp,\n",
    "and it is practically unreadable since it is denoting the unix epoch.\n",
    "\n",
    "Let's try to fix this problem:"
   ]
  },
  {
   "cell_type": "code",
   "execution_count": 9,
   "metadata": {
    "pycharm": {
     "name": "#%%\n"
    }
   },
   "outputs": [],
   "source": [
    "from pyspark.sql.functions import from_unixtime\n",
    "\n",
    "def to_timestamp(df: DataFrame):\n",
    "    # let's create a new field, `timestamp`, and assign it the value of `timestamp_ms`\n",
    "    # additionally, we drop the old `timestamp_ms` field\n",
    "    df = df.\\\n",
    "            withColumn(\"timestamp\", from_unixtime(f'timestamp_ms').\\\n",
    "            cast(TimestampType()))\n",
    "    df = df.drop(f'timestamp_ms')\n",
    "    return df"
   ]
  },
  {
   "cell_type": "code",
   "execution_count": 10,
   "metadata": {
    "pycharm": {
     "name": "#%%\n"
    }
   },
   "outputs": [
    {
     "data": {
      "text/html": [
       "<table border='1'>\n",
       "<tr><th>device_id</th><th>unit</th><th>type</th><th>measurement</th><th>timestamp</th></tr>\n",
       "<tr><td>temp1</td><td>celsius</td><td>temperature</td><td>22.671717271141567</td><td>2020-09-01 03:00:00</td></tr>\n",
       "<tr><td>temp1</td><td>celsius</td><td>temperature</td><td>22.427013031545382</td><td>2020-09-01 03:15:00</td></tr>\n",
       "<tr><td>temp1</td><td>celsius</td><td>temperature</td><td>23.21266136616038</td><td>2020-09-01 03:30:00</td></tr>\n",
       "<tr><td>temp1</td><td>celsius</td><td>temperature</td><td>22.280158977203943</td><td>2020-09-01 03:45:00</td></tr>\n",
       "<tr><td>temp2</td><td>celsius</td><td>temperature</td><td>14.348216499635889</td><td>2020-09-01 03:00:00</td></tr>\n",
       "<tr><td>temp2</td><td>celsius</td><td>temperature</td><td>14.968794892912364</td><td>2020-09-01 03:15:00</td></tr>\n",
       "<tr><td>temp2</td><td>celsius</td><td>temperature</td><td>14.271602819920133</td><td>2020-09-01 03:30:00</td></tr>\n",
       "<tr><td>temp2</td><td>celsius</td><td>temperature</td><td>13.578581273189716</td><td>2020-09-01 03:45:00</td></tr>\n",
       "<tr><td>temp3</td><td>celsius</td><td>temperature</td><td>15.433606301351901</td><td>2020-09-01 03:00:00</td></tr>\n",
       "<tr><td>temp3</td><td>celsius</td><td>temperature</td><td>15.732800281399621</td><td>2020-09-01 03:15:00</td></tr>\n",
       "<tr><td>temp3</td><td>celsius</td><td>temperature</td><td>15.732800281399621</td><td>2020-09-01 03:30:00</td></tr>\n",
       "<tr><td>temp3</td><td>celsius</td><td>temperature</td><td>15.732800281399621</td><td>2020-09-01 03:45:00</td></tr>\n",
       "<tr><td>weather1</td><td>%</td><td>humidity</td><td>99.19263396239432</td><td>2020-09-01 03:00:00</td></tr>\n",
       "<tr><td>weather1</td><td>mbar</td><td>pressure</td><td>120.91026370800935</td><td>2020-09-01 03:00:00</td></tr>\n",
       "<tr><td>weather1</td><td>lux</td><td>light</td><td>1000.157614543129</td><td>2020-09-01 03:00:00</td></tr>\n",
       "<tr><td>weather2</td><td>%</td><td>humidity</td><td>100.0</td><td>2020-09-01 03:00:00</td></tr>\n",
       "<tr><td>weather2</td><td>mbar</td><td>pressure</td><td>230.0</td><td>2020-09-01 03:00:00</td></tr>\n",
       "<tr><td>weather2</td><td>lux</td><td>light</td><td>1000.0</td><td>2020-09-01 03:00:00</td></tr>\n",
       "<tr><td>weather3</td><td>%</td><td>humidity</td><td>30.0</td><td>2020-09-01 03:00:00</td></tr>\n",
       "<tr><td>weather3</td><td>mbar</td><td>pressure</td><td>100.9230276149223</td><td>2020-09-01 03:00:00</td></tr>\n",
       "</table>\n",
       "only showing top 20 rows\n"
      ],
      "text/plain": [
       "+---------+-------+-----------+------------------+-------------------+\n",
       "|device_id|   unit|       type|       measurement|          timestamp|\n",
       "+---------+-------+-----------+------------------+-------------------+\n",
       "|    temp1|celsius|temperature|22.671717271141567|2020-09-01 03:00:00|\n",
       "|    temp1|celsius|temperature|22.427013031545382|2020-09-01 03:15:00|\n",
       "|    temp1|celsius|temperature| 23.21266136616038|2020-09-01 03:30:00|\n",
       "|    temp1|celsius|temperature|22.280158977203943|2020-09-01 03:45:00|\n",
       "|    temp2|celsius|temperature|14.348216499635889|2020-09-01 03:00:00|\n",
       "|    temp2|celsius|temperature|14.968794892912364|2020-09-01 03:15:00|\n",
       "|    temp2|celsius|temperature|14.271602819920133|2020-09-01 03:30:00|\n",
       "|    temp2|celsius|temperature|13.578581273189716|2020-09-01 03:45:00|\n",
       "|    temp3|celsius|temperature|15.433606301351901|2020-09-01 03:00:00|\n",
       "|    temp3|celsius|temperature|15.732800281399621|2020-09-01 03:15:00|\n",
       "|    temp3|celsius|temperature|15.732800281399621|2020-09-01 03:30:00|\n",
       "|    temp3|celsius|temperature|15.732800281399621|2020-09-01 03:45:00|\n",
       "| weather1|      %|   humidity| 99.19263396239432|2020-09-01 03:00:00|\n",
       "| weather1|   mbar|   pressure|120.91026370800935|2020-09-01 03:00:00|\n",
       "| weather1|    lux|      light| 1000.157614543129|2020-09-01 03:00:00|\n",
       "| weather2|      %|   humidity|             100.0|2020-09-01 03:00:00|\n",
       "| weather2|   mbar|   pressure|             230.0|2020-09-01 03:00:00|\n",
       "| weather2|    lux|      light|            1000.0|2020-09-01 03:00:00|\n",
       "| weather3|      %|   humidity|              30.0|2020-09-01 03:00:00|\n",
       "| weather3|   mbar|   pressure| 100.9230276149223|2020-09-01 03:00:00|\n",
       "+---------+-------+-----------+------------------+-------------------+\n",
       "only showing top 20 rows"
      ]
     },
     "metadata": {},
     "output_type": "display_data"
    }
   ],
   "source": [
    "sensor_data = to_timestamp(sensor_data_df)\n",
    "\n",
    "# we need to register the data frame, so SparkSQL will know how to refer to it in the SQL below\n",
    "sqlContext.registerDataFrameAsTable(sensor_data, \"sensorData\")\n",
    "\n",
    "display(sensor_data)"
   ]
  },
  {
   "cell_type": "markdown",
   "metadata": {
    "pycharm": {
     "name": "#%% md\n"
    }
   },
   "source": [
    "So far we have flattened the measurements, but we have lost the data when the emissions were ocurring.\n",
    "To get it, we need to remove the measurements from the original `JSON` objects"
   ]
  },
  {
   "cell_type": "code",
   "execution_count": 11,
   "metadata": {
    "pycharm": {
     "name": "#%%\n"
    },
    "scrolled": false
   },
   "outputs": [],
   "source": [
    "def remove_property(data: dict, to_delete: str = \"data\"):\n",
    "    \"\"\"\n",
    "    This method takes a dictionary object and removes the `to_delete` property from it\n",
    "    \"\"\"\n",
    "    del data[to_delete]\n",
    "    return data"
   ]
  },
  {
   "cell_type": "code",
   "execution_count": 12,
   "metadata": {
    "pycharm": {
     "name": "#%%\n"
    }
   },
   "outputs": [
    {
     "data": {
      "text/html": [
       "<table border='1'>\n",
       "<tr><th>id</th><th>timestamp</th></tr>\n",
       "<tr><td>temp1</td><td>2020-09-01 03:00:00</td></tr>\n",
       "<tr><td>temp2</td><td>2020-09-01 03:00:00</td></tr>\n",
       "<tr><td>temp3</td><td>2020-09-01 03:00:00</td></tr>\n",
       "<tr><td>weather1</td><td>2020-09-01 03:00:00</td></tr>\n",
       "<tr><td>weather2</td><td>2020-09-01 03:00:00</td></tr>\n",
       "<tr><td>weather3</td><td>2020-09-01 03:00:00</td></tr>\n",
       "<tr><td>contact1</td><td>2020-09-01 03:00:00</td></tr>\n",
       "<tr><td>contact2</td><td>2020-09-01 03:00:00</td></tr>\n",
       "<tr><td>air1</td><td>2020-09-01 03:00:00</td></tr>\n",
       "<tr><td>air2</td><td>2020-09-01 03:00:00</td></tr>\n",
       "<tr><td>temp1</td><td>2020-09-01 04:00:00</td></tr>\n",
       "<tr><td>temp2</td><td>2020-09-01 04:00:00</td></tr>\n",
       "<tr><td>temp3</td><td>2020-09-01 04:00:00</td></tr>\n",
       "<tr><td>weather1</td><td>2020-09-01 04:00:00</td></tr>\n",
       "<tr><td>weather2</td><td>2020-09-01 04:00:00</td></tr>\n",
       "<tr><td>weather3</td><td>2020-09-01 04:00:00</td></tr>\n",
       "<tr><td>contact1</td><td>2020-09-01 04:00:00</td></tr>\n",
       "<tr><td>contact2</td><td>2020-09-01 04:00:00</td></tr>\n",
       "<tr><td>air1</td><td>2020-09-01 04:00:00</td></tr>\n",
       "<tr><td>air2</td><td>2020-09-01 04:00:00</td></tr>\n",
       "</table>\n",
       "only showing top 20 rows\n"
      ],
      "text/plain": [
       "+--------+-------------------+\n",
       "|      id|          timestamp|\n",
       "+--------+-------------------+\n",
       "|   temp1|2020-09-01 03:00:00|\n",
       "|   temp2|2020-09-01 03:00:00|\n",
       "|   temp3|2020-09-01 03:00:00|\n",
       "|weather1|2020-09-01 03:00:00|\n",
       "|weather2|2020-09-01 03:00:00|\n",
       "|weather3|2020-09-01 03:00:00|\n",
       "|contact1|2020-09-01 03:00:00|\n",
       "|contact2|2020-09-01 03:00:00|\n",
       "|    air1|2020-09-01 03:00:00|\n",
       "|    air2|2020-09-01 03:00:00|\n",
       "|   temp1|2020-09-01 04:00:00|\n",
       "|   temp2|2020-09-01 04:00:00|\n",
       "|   temp3|2020-09-01 04:00:00|\n",
       "|weather1|2020-09-01 04:00:00|\n",
       "|weather2|2020-09-01 04:00:00|\n",
       "|weather3|2020-09-01 04:00:00|\n",
       "|contact1|2020-09-01 04:00:00|\n",
       "|contact2|2020-09-01 04:00:00|\n",
       "|    air1|2020-09-01 04:00:00|\n",
       "|    air2|2020-09-01 04:00:00|\n",
       "+--------+-------------------+\n",
       "only showing top 20 rows"
      ]
     },
     "metadata": {},
     "output_type": "display_data"
    }
   ],
   "source": [
    "emission_data_df = json_data.map(remove_property).map(lambda l: Row(**dict(l))).toDF()\n",
    "emission_data_df = to_timestamp(emission_data_df)\n",
    "\n",
    "display(emission_data_df)\n",
    "\n",
    "sqlContext.registerDataFrameAsTable(emission_data_df, \"emissionData\")\n"
   ]
  },
  {
   "cell_type": "markdown",
   "metadata": {
    "pycharm": {
     "name": "#%% md\n"
    }
   },
   "source": [
    "In addition to the measurements data we also have the device location data.\n",
    "Let's load it as well:"
   ]
  },
  {
   "cell_type": "code",
   "execution_count": 13,
   "metadata": {
    "pycharm": {
     "name": "#%%\n"
    }
   },
   "outputs": [
    {
     "data": {
      "text/html": [
       "<table border='1'>\n",
       "<tr><th>device_id</th><th>location</th></tr>\n",
       "<tr><td>temp1</td><td>living_room</td></tr>\n",
       "<tr><td>temp2</td><td>master_bedroom</td></tr>\n",
       "<tr><td>temp3</td><td>hallway</td></tr>\n",
       "<tr><td>weather1</td><td>living_room</td></tr>\n",
       "<tr><td>weather2</td><td>bathroom</td></tr>\n",
       "<tr><td>weather3</td><td>master_bedroom</td></tr>\n",
       "<tr><td>contact1</td><td>balcony</td></tr>\n",
       "<tr><td>contact2</td><td>hallway</td></tr>\n",
       "<tr><td>air1</td><td>master_bedroom</td></tr>\n",
       "<tr><td>air2</td><td>living_room</td></tr>\n",
       "</table>\n"
      ],
      "text/plain": [
       "+---------+--------------+\n",
       "|device_id|      location|\n",
       "+---------+--------------+\n",
       "|    temp1|   living_room|\n",
       "|    temp2|master_bedroom|\n",
       "|    temp3|       hallway|\n",
       "| weather1|   living_room|\n",
       "| weather2|      bathroom|\n",
       "| weather3|master_bedroom|\n",
       "| contact1|       balcony|\n",
       "| contact2|       hallway|\n",
       "|     air1|master_bedroom|\n",
       "|     air2|   living_room|\n",
       "+---------+--------------+"
      ]
     },
     "metadata": {},
     "output_type": "display_data"
    }
   ],
   "source": [
    "from pyspark.sql.types import StructType, StructField, StringType\n",
    "\n",
    "# one of the ways how to load a csv file in Spark:\n",
    "device_locations_df = ss.read.csv(\n",
    "    \"data/device_locations.csv\",\n",
    "    header=True,\n",
    "    mode=\"DROPMALFORMED\",\n",
    "    # we need to provide the schema of the csv file:\n",
    "    schema=StructType([\n",
    "        StructField(\"device_id\", StringType(), True),\n",
    "        StructField(\"location\", StringType(), True)\n",
    "    ])\n",
    ")\n",
    "sqlContext.registerDataFrameAsTable(device_locations_df, \"deviceLocations\")\n",
    "display(device_locations_df)"
   ]
  },
  {
   "cell_type": "markdown",
   "metadata": {
    "pycharm": {
     "name": "#%% md\n"
    }
   },
   "source": [
    "With all the data loaded, we can now start exploring it.\n",
    "\n",
    "Let's start by extracting all the humidity measurements from the `weather1` device.\n",
    "Order the results by their `timestamp` in ascending order."
   ]
  },
  {
   "cell_type": "code",
   "execution_count": 14,
   "metadata": {
    "pycharm": {
     "name": "#%%\n"
    }
   },
   "outputs": [
    {
     "data": {
      "text/html": [
       "<table border='1'>\n",
       "<tr><th>device_id</th><th>unit</th><th>type</th><th>measurement</th><th>timestamp</th></tr>\n",
       "<tr><td>weather1</td><td>%</td><td>humidity</td><td>99.19263396239432</td><td>2020-09-01 03:00:00</td></tr>\n",
       "<tr><td>weather1</td><td>%</td><td>humidity</td><td>99.19263396239432</td><td>2020-09-01 04:00:00</td></tr>\n",
       "<tr><td>weather1</td><td>%</td><td>humidity</td><td>98.61409519508864</td><td>2020-09-01 05:00:00</td></tr>\n",
       "<tr><td>weather1</td><td>%</td><td>humidity</td><td>98.61409519508864</td><td>2020-09-01 06:00:00</td></tr>\n",
       "<tr><td>weather1</td><td>%</td><td>humidity</td><td>97.76089772702514</td><td>2020-09-01 07:00:00</td></tr>\n",
       "<tr><td>weather1</td><td>%</td><td>humidity</td><td>98.37805736392947</td><td>2020-09-01 08:00:00</td></tr>\n",
       "<tr><td>weather1</td><td>%</td><td>humidity</td><td>98.29061885744647</td><td>2020-09-01 09:00:00</td></tr>\n",
       "<tr><td>weather1</td><td>%</td><td>humidity</td><td>98.27012097648674</td><td>2020-09-01 10:00:00</td></tr>\n",
       "<tr><td>weather1</td><td>%</td><td>humidity</td><td>98.27012097648674</td><td>2020-09-01 11:00:00</td></tr>\n",
       "<tr><td>weather1</td><td>%</td><td>humidity</td><td>98.10923661723136</td><td>2020-09-01 12:00:00</td></tr>\n",
       "</table>\n"
      ],
      "text/plain": [
       "+---------+----+--------+-----------------+-------------------+\n",
       "|device_id|unit|    type|      measurement|          timestamp|\n",
       "+---------+----+--------+-----------------+-------------------+\n",
       "| weather1|   %|humidity|99.19263396239432|2020-09-01 03:00:00|\n",
       "| weather1|   %|humidity|99.19263396239432|2020-09-01 04:00:00|\n",
       "| weather1|   %|humidity|98.61409519508864|2020-09-01 05:00:00|\n",
       "| weather1|   %|humidity|98.61409519508864|2020-09-01 06:00:00|\n",
       "| weather1|   %|humidity|97.76089772702514|2020-09-01 07:00:00|\n",
       "| weather1|   %|humidity|98.37805736392947|2020-09-01 08:00:00|\n",
       "| weather1|   %|humidity|98.29061885744647|2020-09-01 09:00:00|\n",
       "| weather1|   %|humidity|98.27012097648674|2020-09-01 10:00:00|\n",
       "| weather1|   %|humidity|98.27012097648674|2020-09-01 11:00:00|\n",
       "| weather1|   %|humidity|98.10923661723136|2020-09-01 12:00:00|\n",
       "+---------+----+--------+-----------------+-------------------+"
      ]
     },
     "metadata": {},
     "output_type": "display_data"
    }
   ],
   "source": [
    "temps = sqlContext.sql(\"\"\"\n",
    "    SELECT *\n",
    "    FROM sensorData\n",
    "    -- add the constraints:\n",
    "    WHERE type = 'humidity' AND device_id = 'weather1'\n",
    "    ORDER BY timestamp\n",
    "    LIMIT 10\n",
    "\"\"\")\n",
    "\n",
    "display(temps)"
   ]
  },
  {
   "cell_type": "markdown",
   "metadata": {},
   "source": [
    "Let's try to join 2 data frames.\n",
    "\n",
    "We would like to know where the `weather1` device from the previous query is located.\n",
    "\n",
    "For that purpose we need to join the `sensorData` and `deviceLocations` data frames."
   ]
  },
  {
   "cell_type": "code",
   "execution_count": 15,
   "metadata": {
    "pycharm": {
     "name": "#%%\n"
    }
   },
   "outputs": [
    {
     "data": {
      "text/html": [
       "<table border='1'>\n",
       "<tr><th>device_id</th><th>unit</th><th>type</th><th>measurement</th><th>timestamp</th><th>device_id</th><th>location</th></tr>\n",
       "<tr><td>weather1</td><td>%</td><td>humidity</td><td>99.19263396239432</td><td>2020-09-01 03:00:00</td><td>weather1</td><td>living_room</td></tr>\n",
       "<tr><td>weather1</td><td>%</td><td>humidity</td><td>99.19263396239432</td><td>2020-09-01 04:00:00</td><td>weather1</td><td>living_room</td></tr>\n",
       "<tr><td>weather1</td><td>%</td><td>humidity</td><td>98.61409519508864</td><td>2020-09-01 05:00:00</td><td>weather1</td><td>living_room</td></tr>\n",
       "<tr><td>weather1</td><td>%</td><td>humidity</td><td>98.61409519508864</td><td>2020-09-01 06:00:00</td><td>weather1</td><td>living_room</td></tr>\n",
       "<tr><td>weather1</td><td>%</td><td>humidity</td><td>97.76089772702514</td><td>2020-09-01 07:00:00</td><td>weather1</td><td>living_room</td></tr>\n",
       "<tr><td>weather1</td><td>%</td><td>humidity</td><td>98.37805736392947</td><td>2020-09-01 08:00:00</td><td>weather1</td><td>living_room</td></tr>\n",
       "<tr><td>weather1</td><td>%</td><td>humidity</td><td>98.29061885744647</td><td>2020-09-01 09:00:00</td><td>weather1</td><td>living_room</td></tr>\n",
       "<tr><td>weather1</td><td>%</td><td>humidity</td><td>98.27012097648674</td><td>2020-09-01 10:00:00</td><td>weather1</td><td>living_room</td></tr>\n",
       "<tr><td>weather1</td><td>%</td><td>humidity</td><td>98.27012097648674</td><td>2020-09-01 11:00:00</td><td>weather1</td><td>living_room</td></tr>\n",
       "<tr><td>weather1</td><td>%</td><td>humidity</td><td>98.10923661723136</td><td>2020-09-01 12:00:00</td><td>weather1</td><td>living_room</td></tr>\n",
       "</table>\n"
      ],
      "text/plain": [
       "+---------+----+--------+-----------------+-------------------+---------+-----------+\n",
       "|device_id|unit|    type|      measurement|          timestamp|device_id|   location|\n",
       "+---------+----+--------+-----------------+-------------------+---------+-----------+\n",
       "| weather1|   %|humidity|99.19263396239432|2020-09-01 03:00:00| weather1|living_room|\n",
       "| weather1|   %|humidity|99.19263396239432|2020-09-01 04:00:00| weather1|living_room|\n",
       "| weather1|   %|humidity|98.61409519508864|2020-09-01 05:00:00| weather1|living_room|\n",
       "| weather1|   %|humidity|98.61409519508864|2020-09-01 06:00:00| weather1|living_room|\n",
       "| weather1|   %|humidity|97.76089772702514|2020-09-01 07:00:00| weather1|living_room|\n",
       "| weather1|   %|humidity|98.37805736392947|2020-09-01 08:00:00| weather1|living_room|\n",
       "| weather1|   %|humidity|98.29061885744647|2020-09-01 09:00:00| weather1|living_room|\n",
       "| weather1|   %|humidity|98.27012097648674|2020-09-01 10:00:00| weather1|living_room|\n",
       "| weather1|   %|humidity|98.27012097648674|2020-09-01 11:00:00| weather1|living_room|\n",
       "| weather1|   %|humidity|98.10923661723136|2020-09-01 12:00:00| weather1|living_room|\n",
       "+---------+----+--------+-----------------+-------------------+---------+-----------+"
      ]
     },
     "metadata": {},
     "output_type": "display_data"
    }
   ],
   "source": [
    "joinDFs = sqlContext.sql(\"\"\"\n",
    "    SELECT *\n",
    "    FROM sensorData\n",
    "    -- perform the join:\n",
    "    INNER JOIN deviceLocations ON sensorData.device_id = deviceLocations.device_id\n",
    "    WHERE type = 'humidity' AND sensorData.device_id = 'weather1'\n",
    "    LIMIT 10\n",
    "\"\"\")\n",
    "\n",
    "display(joinDFs)"
   ]
  },
  {
   "cell_type": "markdown",
   "metadata": {
    "pycharm": {
     "name": "#%% md\n"
    }
   },
   "source": [
    "We would like to know what is the count of measurements per device, with the following output:\n",
    "\n",
    "```\n",
    "<device_id>, <number of measurements>\n",
    "```"
   ]
  },
  {
   "cell_type": "code",
   "execution_count": 16,
   "metadata": {
    "pycharm": {
     "name": "#%%\n"
    }
   },
   "outputs": [
    {
     "data": {
      "text/html": [
       "<table border='1'>\n",
       "<tr><th>DeviceId</th><th>NumberOfMeasurements</th></tr>\n",
       "<tr><td>air1</td><td>25</td></tr>\n",
       "<tr><td>air2</td><td>25</td></tr>\n",
       "<tr><td>contact1</td><td>72</td></tr>\n",
       "<tr><td>contact2</td><td>70</td></tr>\n",
       "<tr><td>temp1</td><td>100</td></tr>\n",
       "<tr><td>temp2</td><td>100</td></tr>\n",
       "<tr><td>temp3</td><td>100</td></tr>\n",
       "<tr><td>weather1</td><td>75</td></tr>\n",
       "<tr><td>weather2</td><td>75</td></tr>\n",
       "<tr><td>weather3</td><td>75</td></tr>\n",
       "</table>\n"
      ],
      "text/plain": [
       "+--------+--------------------+\n",
       "|DeviceId|NumberOfMeasurements|\n",
       "+--------+--------------------+\n",
       "|    air1|                  25|\n",
       "|    air2|                  25|\n",
       "|contact1|                  72|\n",
       "|contact2|                  70|\n",
       "|   temp1|                 100|\n",
       "|   temp2|                 100|\n",
       "|   temp3|                 100|\n",
       "|weather1|                  75|\n",
       "|weather2|                  75|\n",
       "|weather3|                  75|\n",
       "+--------+--------------------+"
      ]
     },
     "metadata": {},
     "output_type": "display_data"
    }
   ],
   "source": [
    "groupByExample = sqlContext.sql(\"\"\"\n",
    "    SELECT\n",
    "        device_id DeviceId,\n",
    "        COUNT(*) NumberOfMeasurements\n",
    "    FROM sensorData\n",
    "    GROUP BY device_id\n",
    "    ORDER BY DeviceId\n",
    "\"\"\")\n",
    "\n",
    "display(groupByExample)"
   ]
  },
  {
   "cell_type": "markdown",
   "metadata": {
    "pycharm": {
     "name": "#%% md\n"
    }
   },
   "source": [
    "Try and figure out the answers to the following questions:\n",
    "1. What are the min, max, mean temperature per room in our home?\n",
    "2. What is the longest that a door has been opened?\n",
    "3. How many sensors does each device have?\n",
    "4. Which location has the best air quality?\n",
    "5. Does the data make any sense to you? Why?"
   ]
  }
 ],
 "metadata": {
  "kernelspec": {
   "display_name": "DSSpark",
   "language": "python",
   "name": "dsspark"
  },
  "language_info": {
   "codemirror_mode": {
    "name": "ipython",
    "version": 3
   },
   "file_extension": ".py",
   "mimetype": "text/x-python",
   "name": "python",
   "nbconvert_exporter": "python",
   "pygments_lexer": "ipython3",
   "version": "3.8.3"
  }
 },
 "nbformat": 4,
 "nbformat_minor": 1
}
