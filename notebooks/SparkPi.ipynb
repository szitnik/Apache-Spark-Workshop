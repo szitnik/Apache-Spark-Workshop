{
 "cells": [
  {
   "cell_type": "code",
   "execution_count": 1,
   "metadata": {
    "scrolled": false
   },
   "outputs": [],
   "source": [
    "import sys\n",
    "from random import random\n",
    "from pyspark import SparkContext, SparkConf\n",
    "\n",
    "conf = SparkConf().setAppName(\"Spark Pi\")\n",
    "sc = SparkContext.getOrCreate(conf=conf)"
   ]
  },
  {
   "cell_type": "code",
   "execution_count": 2,
   "metadata": {},
   "outputs": [
    {
     "name": "stdout",
     "output_type": "stream",
     "text": [
      "Pi is approximately 3.14177152\n"
     ]
    }
   ],
   "source": [
    "NUM_SAMPLES = 100000000\n",
    "\n",
    "# generate numbers on the [-1, 1] interval\n",
    "pick_random = lambda: random() * 2 - 1\n",
    "\n",
    "def inside(n):\n",
    "    x, y = pick_random(), pick_random()\n",
    "    return (x * x + y * y) < 1\n",
    "\n",
    "count = sc.\\\n",
    "            parallelize(range(0, NUM_SAMPLES)).\\\n",
    "            filter(inside).\\\n",
    "            count()\n",
    "\n",
    "approx_pi = count * 4.0 / NUM_SAMPLES\n",
    "\n",
    "print(f\"Pi is approximately {approx_pi}\")\n"
   ]
  }
 ],
 "metadata": {
  "kernelspec": {
   "display_name": "Python 3",
   "language": "python",
   "name": "python3"
  },
  "language_info": {
   "codemirror_mode": {
    "name": "ipython",
    "version": 3
   },
   "file_extension": ".py",
   "mimetype": "text/x-python",
   "name": "python",
   "nbconvert_exporter": "python",
   "pygments_lexer": "ipython3",
   "version": "3.6.8"
  }
 },
 "nbformat": 4,
 "nbformat_minor": 4
}
